{
  "nbformat": 4,
  "nbformat_minor": 0,
  "metadata": {
    "colab": {
      "provenance": [],
      "authorship_tag": "ABX9TyMswbgTdF42BY6OPH447760",
      "include_colab_link": true
    },
    "kernelspec": {
      "name": "python3",
      "display_name": "Python 3"
    },
    "language_info": {
      "name": "python"
    }
  },
  "cells": [
    {
      "cell_type": "markdown",
      "metadata": {
        "id": "view-in-github",
        "colab_type": "text"
      },
      "source": [
        "<a href=\"https://colab.research.google.com/github/heddgehogg/Machine-Learning/blob/main/%D0%A9%D0%B5%D1%80%D0%B1%D0%B8%D0%BD%D0%B0_%D0%9B%D0%A0_1_%D0%A7%D0%B0%D1%81%D1%82%D0%B8%D0%BD%D0%B02.ipynb\" target=\"_parent\"><img src=\"https://colab.research.google.com/assets/colab-badge.svg\" alt=\"Open In Colab\"/></a>"
      ]
    },
    {
      "cell_type": "markdown",
      "source": [
        "1. Задати вектор, що складається з перших пʼяти натуральних чисел."
      ],
      "metadata": {
        "id": "eq1n5IJjENZP"
      }
    },
    {
      "cell_type": "code",
      "execution_count": 13,
      "metadata": {
        "colab": {
          "base_uri": "https://localhost:8080/"
        },
        "id": "HZ9potEWDu5P",
        "outputId": "b18e03fc-756c-4e6d-c06d-6af329b97b27"
      },
      "outputs": [
        {
          "output_type": "execute_result",
          "data": {
            "text/plain": [
              "array([1, 2, 3, 4, 5])"
            ]
          },
          "metadata": {},
          "execution_count": 13
        }
      ],
      "source": [
        "import numpy as np\n",
        "\n",
        "vector = np.array([1, 2, 3, 4, 5])\n",
        "vector"
      ]
    },
    {
      "cell_type": "markdown",
      "source": [
        "2. Транспортувати вектор."
      ],
      "metadata": {
        "id": "BDiR9GapEfVb"
      }
    },
    {
      "cell_type": "code",
      "source": [
        "v = np.matrix([1, 2, 3, 4, 5])\n",
        "print(v)\n",
        "\n",
        "v2 = v.T\n",
        "v2"
      ],
      "metadata": {
        "colab": {
          "base_uri": "https://localhost:8080/"
        },
        "id": "HWSDKMFBEfGF",
        "outputId": "6631e855-b3dc-477c-dd6c-1db5ae454526"
      },
      "execution_count": 7,
      "outputs": [
        {
          "output_type": "stream",
          "name": "stdout",
          "text": [
            "[[1 2 3 4 5]]\n"
          ]
        },
        {
          "output_type": "execute_result",
          "data": {
            "text/plain": [
              "matrix([[1],\n",
              "        [2],\n",
              "        [3],\n",
              "        [4],\n",
              "        [5]])"
            ]
          },
          "metadata": {},
          "execution_count": 7
        }
      ]
    },
    {
      "cell_type": "markdown",
      "source": [
        "3. Напишіть функцію, яка повертає вектор у зворотному напрямку."
      ],
      "metadata": {
        "id": "rS9Kk-g_E9Py"
      }
    },
    {
      "cell_type": "code",
      "source": [
        "v = np.array([1, 2, 3, 4, 5])\n",
        "print(v[::-1])"
      ],
      "metadata": {
        "colab": {
          "base_uri": "https://localhost:8080/"
        },
        "id": "cg0Dw9NsENJP",
        "outputId": "d837b09f-15c9-4b27-8a6e-8b09c4be0fc4"
      },
      "execution_count": 8,
      "outputs": [
        {
          "output_type": "stream",
          "name": "stdout",
          "text": [
            "[5 4 3 2 1]\n"
          ]
        }
      ]
    },
    {
      "cell_type": "markdown",
      "source": [
        "4. Обчислити середнє значення вектора."
      ],
      "metadata": {
        "id": "qAxoEBXFFUpF"
      }
    },
    {
      "cell_type": "code",
      "source": [
        "print(np.mean(v))"
      ],
      "metadata": {
        "colab": {
          "base_uri": "https://localhost:8080/"
        },
        "id": "z-iRsUNkEMBn",
        "outputId": "b9a3d32f-b102-4f48-e0cb-755682c9bb1d"
      },
      "execution_count": 9,
      "outputs": [
        {
          "output_type": "stream",
          "name": "stdout",
          "text": [
            "3.0\n"
          ]
        }
      ]
    },
    {
      "cell_type": "markdown",
      "source": [
        "5. Знайти найбільший і найменший елементи вектора."
      ],
      "metadata": {
        "id": "eLIHOtqMFkHD"
      }
    },
    {
      "cell_type": "code",
      "source": [
        "print(np.max(v))\n",
        "print(np.min(v))"
      ],
      "metadata": {
        "colab": {
          "base_uri": "https://localhost:8080/"
        },
        "id": "QrtLl-t5FiKQ",
        "outputId": "edc0718d-09c3-4f08-cacf-58c500e7f4fb"
      },
      "execution_count": 10,
      "outputs": [
        {
          "output_type": "stream",
          "name": "stdout",
          "text": [
            "5\n",
            "1\n"
          ]
        }
      ]
    },
    {
      "cell_type": "markdown",
      "source": [
        "6. Обчислити скалярний добуток двох векторів."
      ],
      "metadata": {
        "id": "gEYb7oAMF9c8"
      }
    },
    {
      "cell_type": "code",
      "source": [
        "v1 = np.array([1, 2, 3])\n",
        "v2 = np.array([4, 5, 6])\n",
        "\n",
        "print(np.dot(v1, v2))\n",
        "print(v1*v2)"
      ],
      "metadata": {
        "colab": {
          "base_uri": "https://localhost:8080/"
        },
        "id": "rkXx3q60FtVU",
        "outputId": "3af497fd-f4bf-4d1e-e77a-70dccbf05782"
      },
      "execution_count": 11,
      "outputs": [
        {
          "output_type": "stream",
          "name": "stdout",
          "text": [
            "32\n",
            "[ 4 10 18]\n"
          ]
        }
      ]
    },
    {
      "cell_type": "markdown",
      "source": [
        "7. Напишіть функцію, яка нормалізує вектор."
      ],
      "metadata": {
        "id": "mY5vftYbGjzL"
      }
    },
    {
      "cell_type": "code",
      "source": [
        "v = np.array([1, 2, 3, 4, 5])\n",
        "norm = np.linalg.norm(v)\n",
        "print(norm)\n",
        "\n",
        "v/norm"
      ],
      "metadata": {
        "colab": {
          "base_uri": "https://localhost:8080/"
        },
        "id": "uDiLsnPrGSD8",
        "outputId": "2ae4b508-6712-4679-acdd-40cda6a97389"
      },
      "execution_count": 15,
      "outputs": [
        {
          "output_type": "stream",
          "name": "stdout",
          "text": [
            "7.416198487095663\n"
          ]
        },
        {
          "output_type": "execute_result",
          "data": {
            "text/plain": [
              "array([0.13483997, 0.26967994, 0.40451992, 0.53935989, 0.67419986])"
            ]
          },
          "metadata": {},
          "execution_count": 15
        }
      ]
    },
    {
      "cell_type": "markdown",
      "source": [
        "8. Задайте два вектори. Визначте, чи є вони ортогональними."
      ],
      "metadata": {
        "id": "tIkRuZRlK9W4"
      }
    },
    {
      "cell_type": "code",
      "source": [
        "v1 = np.array([1, 0, 0])\n",
        "v2 = np.array([0, 1, 0])\n",
        "np.dot(v1, v2)"
      ],
      "metadata": {
        "colab": {
          "base_uri": "https://localhost:8080/"
        },
        "id": "9WhuiPmrK2yu",
        "outputId": "52655f8a-ef98-4d5c-9883-0e7f2537c6f6"
      },
      "execution_count": 16,
      "outputs": [
        {
          "output_type": "execute_result",
          "data": {
            "text/plain": [
              "np.int64(0)"
            ]
          },
          "metadata": {},
          "execution_count": 16
        }
      ]
    },
    {
      "cell_type": "markdown",
      "source": [
        "9. Визначте унікальні елементи вектора."
      ],
      "metadata": {
        "id": "NROEnie0LrnK"
      }
    },
    {
      "cell_type": "code",
      "source": [
        "v = np.array([1, 2, 3, 2, 4, 5, 3])\n",
        "np.unique(v)"
      ],
      "metadata": {
        "colab": {
          "base_uri": "https://localhost:8080/"
        },
        "id": "95Ea0tw6LN65",
        "outputId": "c6ea2981-b61d-402f-e51d-22500456d9ae"
      },
      "execution_count": 17,
      "outputs": [
        {
          "output_type": "execute_result",
          "data": {
            "text/plain": [
              "array([1, 2, 3, 4, 5])"
            ]
          },
          "metadata": {},
          "execution_count": 17
        }
      ]
    },
    {
      "cell_type": "markdown",
      "source": [
        "10. Виконати операції над векторами."
      ],
      "metadata": {
        "id": "9cq__h72MPgq"
      }
    },
    {
      "cell_type": "code",
      "source": [
        "v1 = np.array([1, 2, 3])\n",
        "v2 = np.array([4, 5, 6])\n",
        "\n",
        "print(v1 - v2)\n",
        "print(v2 - v1)\n",
        "print(v1 + v2)\n",
        "print(v2 + v1)\n",
        "print(v1 * v2)\n",
        "print(v2 * v1)\n",
        "print(v1 / v2)\n",
        "print(v2 / v1)"
      ],
      "metadata": {
        "colab": {
          "base_uri": "https://localhost:8080/"
        },
        "id": "injmZgMmMG6_",
        "outputId": "6627db2f-1135-47a0-aa5e-e5371c718754"
      },
      "execution_count": 18,
      "outputs": [
        {
          "output_type": "stream",
          "name": "stdout",
          "text": [
            "[-3 -3 -3]\n",
            "[3 3 3]\n",
            "[5 7 9]\n",
            "[5 7 9]\n",
            "[ 4 10 18]\n",
            "[ 4 10 18]\n",
            "[0.25 0.4  0.5 ]\n",
            "[4.  2.5 2. ]\n"
          ]
        }
      ]
    },
    {
      "cell_type": "markdown",
      "source": [
        "11. Перевірити, чи дорівнює довжина вектора 5."
      ],
      "metadata": {
        "id": "VGSC-aAQNIze"
      }
    },
    {
      "cell_type": "code",
      "source": [
        "v = np.array([1, 2, 3, 4, 5])\n",
        "length = np.linalg.norm(v)\n",
        "\n",
        "np.isclose(length, 5)"
      ],
      "metadata": {
        "colab": {
          "base_uri": "https://localhost:8080/"
        },
        "id": "0pABpN7eMsWE",
        "outputId": "e4eaff27-f5cc-4c94-8771-e000d2920bdf"
      },
      "execution_count": 21,
      "outputs": [
        {
          "output_type": "execute_result",
          "data": {
            "text/plain": [
              "np.False_"
            ]
          },
          "metadata": {},
          "execution_count": 21
        }
      ]
    },
    {
      "cell_type": "markdown",
      "source": [
        "12. Задати матрицю, заповнену випадковими числами."
      ],
      "metadata": {
        "id": "uTs4GM8HNhzI"
      }
    },
    {
      "cell_type": "code",
      "source": [
        "a = np.random.randint(0, 11, (3, 3))\n",
        "a"
      ],
      "metadata": {
        "colab": {
          "base_uri": "https://localhost:8080/"
        },
        "id": "6DWe1QX_Nby3",
        "outputId": "1d2344e7-98dc-4c24-e59a-d54ca8ef8495"
      },
      "execution_count": 23,
      "outputs": [
        {
          "output_type": "execute_result",
          "data": {
            "text/plain": [
              "array([[4, 7, 6],\n",
              "       [9, 3, 3],\n",
              "       [3, 7, 0]])"
            ]
          },
          "metadata": {},
          "execution_count": 23
        }
      ]
    },
    {
      "cell_type": "markdown",
      "source": [
        "13. Обчислити визначник матриці."
      ],
      "metadata": {
        "id": "9a6oXicuN1OH"
      }
    },
    {
      "cell_type": "code",
      "source": [
        "np.linalg.det(a)"
      ],
      "metadata": {
        "colab": {
          "base_uri": "https://localhost:8080/"
        },
        "id": "ox1-__8vNqpP",
        "outputId": "bba6b8c3-4f8d-48de-fee4-cc309c6aa700"
      },
      "execution_count": 24,
      "outputs": [
        {
          "output_type": "execute_result",
          "data": {
            "text/plain": [
              "np.float64(303.00000000000017)"
            ]
          },
          "metadata": {},
          "execution_count": 24
        }
      ]
    },
    {
      "cell_type": "markdown",
      "source": [
        "14. Знаходження оберненої матриці."
      ],
      "metadata": {
        "id": "nWSgMDVkN9MA"
      }
    },
    {
      "cell_type": "code",
      "source": [
        "np.linalg.inv(a)"
      ],
      "metadata": {
        "colab": {
          "base_uri": "https://localhost:8080/"
        },
        "id": "Ls3mBoUvN7PI",
        "outputId": "d3a1e88a-3b52-448c-bc3e-d35d494278c8"
      },
      "execution_count": 25,
      "outputs": [
        {
          "output_type": "execute_result",
          "data": {
            "text/plain": [
              "array([[-0.06930693,  0.13861386,  0.00990099],\n",
              "       [ 0.02970297, -0.05940594,  0.13861386],\n",
              "       [ 0.17821782, -0.02310231, -0.16831683]])"
            ]
          },
          "metadata": {},
          "execution_count": 25
        }
      ]
    },
    {
      "cell_type": "markdown",
      "source": [
        "15. Розвʼяжіть систему лінійних рівнянь A*x=b, де A - матриця коефіцієнтів, b - вектор вільних членів."
      ],
      "metadata": {
        "id": "DhC2C5sxOIpZ"
      }
    },
    {
      "cell_type": "code",
      "source": [
        "a = np.array([[1, 3, -4], [0, 2, -3], [-2, 2, 5]])\n",
        "b = np.array([5, 3, 4])\n",
        "\n",
        "x = np.linalg.solve(a, b)\n",
        "print(x)\n",
        "\n",
        "inv_a = np.linalg.inv(a)\n",
        "x1 = inv_a.dot(b)\n",
        "print(x1)"
      ],
      "metadata": {
        "colab": {
          "base_uri": "https://localhost:8080/"
        },
        "id": "GN02t5M-OEgA",
        "outputId": "ea55046f-9ab9-49eb-96db-3fe89ca97cf7"
      },
      "execution_count": 28,
      "outputs": [
        {
          "output_type": "stream",
          "name": "stdout",
          "text": [
            "[0.38888889 1.83333333 0.22222222]\n",
            "[0.38888889 1.83333333 0.22222222]\n"
          ]
        }
      ]
    },
    {
      "cell_type": "markdown",
      "source": [
        "16. Множення двох матриць."
      ],
      "metadata": {
        "id": "1iOlg4gRUFwK"
      }
    },
    {
      "cell_type": "code",
      "source": [
        "a = np.array([[1, 3, -4], [0, 2, -3], [-2, 2, 5]])\n",
        "b = np.array([5, 3, 4])\n",
        "\n",
        "np.dot(a, b)"
      ],
      "metadata": {
        "colab": {
          "base_uri": "https://localhost:8080/"
        },
        "id": "XDudS9KHOpB4",
        "outputId": "646cb42e-590d-4beb-9bbf-ccb45e1aaf7e"
      },
      "execution_count": 29,
      "outputs": [
        {
          "output_type": "execute_result",
          "data": {
            "text/plain": [
              "array([-2, -6, 16])"
            ]
          },
          "metadata": {},
          "execution_count": 29
        }
      ]
    },
    {
      "cell_type": "markdown",
      "source": [
        "17. Транспортування матриці."
      ],
      "metadata": {
        "id": "CQObHczfUcCt"
      }
    },
    {
      "cell_type": "code",
      "source": [
        "print(a.T)\n",
        "print(b.T)"
      ],
      "metadata": {
        "colab": {
          "base_uri": "https://localhost:8080/"
        },
        "id": "c3LRk5y3UUzQ",
        "outputId": "a0a617bb-34c4-43b6-c4cd-97c5f01e3263"
      },
      "execution_count": 30,
      "outputs": [
        {
          "output_type": "stream",
          "name": "stdout",
          "text": [
            "[[ 1  0 -2]\n",
            " [ 3  2  2]\n",
            " [-4 -3  5]]\n",
            "[5 3 4]\n"
          ]
        }
      ]
    },
    {
      "cell_type": "markdown",
      "source": [
        "18. Перевірка симетричіної матриці."
      ],
      "metadata": {
        "id": "BcEzmzdYUnIM"
      }
    },
    {
      "cell_type": "code",
      "source": [
        "matrix = np.matrix([[2, 2, 2], [2, 2, 2], [2, 2, 2]])\n",
        "np.allclose(matrix, matrix.T)"
      ],
      "metadata": {
        "colab": {
          "base_uri": "https://localhost:8080/"
        },
        "id": "Vmm_oW2NUiTC",
        "outputId": "743f67f3-d49e-4a4c-837e-76e1c04160e1"
      },
      "execution_count": 31,
      "outputs": [
        {
          "output_type": "execute_result",
          "data": {
            "text/plain": [
              "True"
            ]
          },
          "metadata": {},
          "execution_count": 31
        }
      ]
    },
    {
      "cell_type": "markdown",
      "source": [
        "19. Обчислення сліду матриці."
      ],
      "metadata": {
        "id": "cmzGEHwRU40C"
      }
    },
    {
      "cell_type": "code",
      "source": [
        "np.trace(matrix)"
      ],
      "metadata": {
        "colab": {
          "base_uri": "https://localhost:8080/"
        },
        "id": "fCNZJ1bbU1DW",
        "outputId": "637bedab-4160-4d13-f325-043bedf44361"
      },
      "execution_count": 32,
      "outputs": [
        {
          "output_type": "execute_result",
          "data": {
            "text/plain": [
              "np.int64(6)"
            ]
          },
          "metadata": {},
          "execution_count": 32
        }
      ]
    },
    {
      "cell_type": "markdown",
      "source": [
        "20. Провести операції над матрицями."
      ],
      "metadata": {
        "id": "jsU4V-HFVABW"
      }
    },
    {
      "cell_type": "code",
      "source": [
        "a = np.matrix([[1, 2], [3, 4]])\n",
        "b = np.matrix([[5, 6], [7, 8]])\n",
        "\n",
        "print(np.add(a, b))\n",
        "print(np.subtract(a, b))\n",
        "print(np.multiply(a, b))\n",
        "print(np.divide(a, b))"
      ],
      "metadata": {
        "colab": {
          "base_uri": "https://localhost:8080/"
        },
        "id": "yi6TSQ8vU9gU",
        "outputId": "ffbd4c00-628e-452e-c73d-b008d6c0df39"
      },
      "execution_count": 33,
      "outputs": [
        {
          "output_type": "stream",
          "name": "stdout",
          "text": [
            "[[ 6  8]\n",
            " [10 12]]\n",
            "[[-4 -4]\n",
            " [-4 -4]]\n",
            "[[ 5 12]\n",
            " [21 32]]\n",
            "[[0.2        0.33333333]\n",
            " [0.42857143 0.5       ]]\n"
          ]
        }
      ]
    },
    {
      "cell_type": "markdown",
      "source": [
        "21. Піднесення матриці до ступеня."
      ],
      "metadata": {
        "id": "WRJdjFFcWF6S"
      }
    },
    {
      "cell_type": "code",
      "source": [
        "a = np.matrix([[1, 2], [3, 4]])\n",
        "np.linalg.matrix_power(a, 2)"
      ],
      "metadata": {
        "colab": {
          "base_uri": "https://localhost:8080/"
        },
        "id": "Pz4_NhA5Ve4q",
        "outputId": "ea768aad-b434-43b0-9455-6609e780a286"
      },
      "execution_count": 34,
      "outputs": [
        {
          "output_type": "execute_result",
          "data": {
            "text/plain": [
              "matrix([[ 7, 10],\n",
              "        [15, 22]])"
            ]
          },
          "metadata": {},
          "execution_count": 34
        }
      ]
    },
    {
      "cell_type": "markdown",
      "source": [
        "22. Сортування рядків або стовпців матриці."
      ],
      "metadata": {
        "id": "TloW9ZDKWZ-O"
      }
    },
    {
      "cell_type": "code",
      "source": [
        "b = np.matrix([[5, 3, 4], [2, 3, 5], [3, 2, 2]])\n",
        "\n",
        "print(b)\n",
        "print(np.sort(b, axis=0))\n",
        "print(np.sort(b, axis=1))\n",
        "print(np.sort(b, axis=None))"
      ],
      "metadata": {
        "colab": {
          "base_uri": "https://localhost:8080/"
        },
        "id": "-IsuDN3kWVnD",
        "outputId": "a4d7827e-aa46-404b-c9af-a72ee7adf02a"
      },
      "execution_count": 35,
      "outputs": [
        {
          "output_type": "stream",
          "name": "stdout",
          "text": [
            "[[5 3 4]\n",
            " [2 3 5]\n",
            " [3 2 2]]\n",
            "[[2 2 2]\n",
            " [3 3 4]\n",
            " [5 3 5]]\n",
            "[[3 4 5]\n",
            " [2 3 5]\n",
            " [2 2 3]]\n",
            "[[2 2 2 3 3 3 4 5 5]]\n"
          ]
        }
      ]
    },
    {
      "cell_type": "markdown",
      "source": [
        "23. Підрахуй суму елементів кожного рядка матриці."
      ],
      "metadata": {
        "id": "TgoQDN0IWwuh"
      }
    },
    {
      "cell_type": "code",
      "source": [
        "row_sums = np.sum(a, axis=1).reshape(-1, 1)\n",
        "\n",
        "print('Сума елеменітв кожного рядка:')\n",
        "print(row_sums)"
      ],
      "metadata": {
        "colab": {
          "base_uri": "https://localhost:8080/"
        },
        "id": "vV4pHBEDWqSA",
        "outputId": "bcbae269-bfec-4be6-e181-e58ff2ed858b"
      },
      "execution_count": 36,
      "outputs": [
        {
          "output_type": "stream",
          "name": "stdout",
          "text": [
            "Сума елеменітв кожного рядка:\n",
            "[[3]\n",
            " [7]]\n"
          ]
        }
      ]
    },
    {
      "cell_type": "code",
      "source": [],
      "metadata": {
        "id": "k_tLbJJeXA1h"
      },
      "execution_count": null,
      "outputs": []
    }
  ]
}