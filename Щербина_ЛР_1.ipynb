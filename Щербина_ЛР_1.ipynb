{
  "nbformat": 4,
  "nbformat_minor": 0,
  "metadata": {
    "colab": {
      "provenance": []
    },
    "kernelspec": {
      "name": "python3",
      "display_name": "Python 3"
    },
    "language_info": {
      "name": "python"
    }
  },
  "cells": [
    {
      "cell_type": "code",
      "source": [
        "import numpy as np"
      ],
      "metadata": {
        "id": "Ku4V97OS7uE6"
      },
      "execution_count": 2,
      "outputs": []
    },
    {
      "cell_type": "markdown",
      "source": [
        "## **Варіант 22**"
      ],
      "metadata": {
        "id": "tQDjOr-h7Lm2"
      }
    },
    {
      "cell_type": "markdown",
      "source": [
        "### Завдання 1"
      ],
      "metadata": {
        "id": "3I8Lk5yjCGM7"
      }
    },
    {
      "cell_type": "markdown",
      "source": [
        "22. Створіть одновимірний масив (вектор) зі значеннями 𝑒^𝑥 для кожного натурального\n",
        "числа x, починаючи з 1, та виведіть його значення."
      ],
      "metadata": {
        "id": "6lDuAPZE7YKj"
      }
    },
    {
      "cell_type": "code",
      "source": [
        "n = 10\n",
        "x = np.arange(1, n+1)\n",
        "vector = np.exp(x)\n",
        "\n",
        "print(\"Натуральні числа:\", x)\n",
        "print(\"Вектор e^x:\\n\", vector)"
      ],
      "metadata": {
        "colab": {
          "base_uri": "https://localhost:8080/"
        },
        "id": "sRCJ32R47GJ3",
        "outputId": "e26b7aa7-5693-4900-af3a-bf907a68d8db"
      },
      "execution_count": 15,
      "outputs": [
        {
          "output_type": "stream",
          "name": "stdout",
          "text": [
            "Натуральні числа: [ 1  2  3  4  5  6  7  8  9 10]\n",
            "Вектор e^x:\n",
            " [2.71828183e+00 7.38905610e+00 2.00855369e+01 5.45981500e+01\n",
            " 1.48413159e+02 4.03428793e+02 1.09663316e+03 2.98095799e+03\n",
            " 8.10308393e+03 2.20264658e+04]\n"
          ]
        }
      ]
    },
    {
      "cell_type": "markdown",
      "source": [
        "### Завдання 2"
      ],
      "metadata": {
        "id": "_Y52GtYrCrHl"
      }
    },
    {
      "cell_type": "markdown",
      "source": [
        "22. Створіть двовимірний масив (матрицю) розміром 3x3, заповніть його тангенсами\n",
        "кожного натурального числа, починаючи з 1, та виведіть його значення."
      ],
      "metadata": {
        "id": "5KGLlLn98yYF"
      }
    },
    {
      "cell_type": "code",
      "source": [
        "s = np.arange(1, 10).reshape(3, 3)\n",
        "print(\"Матриця:\\n\", s)\n",
        "m = np.tan(s)\n",
        "\n",
        "print(\"\\nМатриця з тангенсів:\\n\", m)\n"
      ],
      "metadata": {
        "colab": {
          "base_uri": "https://localhost:8080/"
        },
        "id": "NadEKCTh7zxm",
        "outputId": "4463ea4f-4e1a-48a9-bec2-a7e70690e225"
      },
      "execution_count": 17,
      "outputs": [
        {
          "output_type": "stream",
          "name": "stdout",
          "text": [
            "Матриця:\n",
            " [[1 2 3]\n",
            " [4 5 6]\n",
            " [7 8 9]]\n",
            "\n",
            "Матриця з тангенсів:\n",
            " [[ 1.55740772 -2.18503986 -0.14254654]\n",
            " [ 1.15782128 -3.38051501 -0.29100619]\n",
            " [ 0.87144798 -6.79971146 -0.45231566]]\n"
          ]
        }
      ]
    },
    {
      "cell_type": "markdown",
      "source": [
        "### Завдання 3"
      ],
      "metadata": {
        "id": "MGr91QH9Ejam"
      }
    },
    {
      "cell_type": "markdown",
      "source": [
        "22. Створіть масив розміром 3x3, заповніть його випадковими дійсними числами від -1 до\n",
        "1 та виведіть непарні числа."
      ],
      "metadata": {
        "id": "lO86bQnN9Btd"
      }
    },
    {
      "cell_type": "code",
      "source": [
        "m = np.random.uniform(-1, 2, (3, 3))\n",
        "\n",
        "rounded = np.round(m).astype(int)\n",
        "even_numbers = rounded[rounded % 2 == 0]\n",
        "\n",
        "print(\"Матриця:\\n\", m)\n",
        "print(\"Після округлення:\\n\", rounded)\n",
        "print(\"Парні числа:\\n\", even_numbers)"
      ],
      "metadata": {
        "colab": {
          "base_uri": "https://localhost:8080/"
        },
        "id": "ddzXhevSFXMs",
        "outputId": "a99d001d-5169-4363-9265-ded4d3dc0169"
      },
      "execution_count": 19,
      "outputs": [
        {
          "output_type": "stream",
          "name": "stdout",
          "text": [
            "Матриця:\n",
            " [[ 0.68051855 -0.84613806  0.20879407]\n",
            " [-0.33850175  1.53036022 -0.23831514]\n",
            " [ 1.53285815  0.64751525  1.40797513]]\n",
            "Після округлення:\n",
            " [[ 1 -1  0]\n",
            " [ 0  2  0]\n",
            " [ 2  1  1]]\n",
            "Парні числа:\n",
            " [0 0 2 0 2]\n"
          ]
        }
      ]
    },
    {
      "cell_type": "markdown",
      "source": [
        "### Завдання 4"
      ],
      "metadata": {
        "id": "Rch4geRJEjrs"
      }
    },
    {
      "cell_type": "markdown",
      "source": [
        "22. Створіть масив розміром 4x4, заповніть його випадковими дійсними числами від -0.8\n",
        "до 0.8 та виведіть його значення."
      ],
      "metadata": {
        "id": "RbVnEgSV9Bla"
      }
    },
    {
      "cell_type": "code",
      "source": [
        "m = np.random.uniform(-0.8, 0.8, (4, 4))\n",
        "print(m)"
      ],
      "metadata": {
        "colab": {
          "base_uri": "https://localhost:8080/"
        },
        "id": "gvbUbVBwJ7v1",
        "outputId": "8c4252b2-857f-4e71-fa86-a7e8d895a1b0"
      },
      "execution_count": 22,
      "outputs": [
        {
          "output_type": "stream",
          "name": "stdout",
          "text": [
            "[[ 0.51616487 -0.07721136 -0.56568296 -0.27898923]\n",
            " [-0.17984268  0.59078267  0.76226584  0.20733708]\n",
            " [-0.51702853  0.13603547  0.38938771  0.39072683]\n",
            " [-0.00894459  0.01180388 -0.53954394  0.37184713]]\n"
          ]
        }
      ]
    },
    {
      "cell_type": "markdown",
      "source": [
        "### Завдання 5"
      ],
      "metadata": {
        "id": "ah1CddJuEj3w"
      }
    },
    {
      "cell_type": "markdown",
      "source": [
        "22. Створіть два одновимірних масиви розміром 6, заповніть їх випадковими цілими\n",
        "числами в діапазоні від 5 до 15 та виконайте на них поелементні операції додавання,\n",
        "віднімання та множення."
      ],
      "metadata": {
        "id": "wxOKwtPY9BcY"
      }
    },
    {
      "cell_type": "code",
      "source": [
        "arr1 = np.random.randint(5, 16, 6)\n",
        "arr2 = np.random.randint(5, 16, 6)\n",
        "\n",
        "add = arr1 + arr2\n",
        "subt = arr1 - arr2\n",
        "mul = arr1 * arr2\n",
        "\n",
        "print(\"Масив 1:\", arr1)\n",
        "print(\"Масив 2:\", arr2)\n",
        "print(\"Додавання:\", add)\n",
        "print(\"Віднімання:\", subt)\n",
        "print(\"Множення:\", mul)"
      ],
      "metadata": {
        "colab": {
          "base_uri": "https://localhost:8080/"
        },
        "id": "ZHg0mHlAKT0s",
        "outputId": "0e0a6bc1-dd18-4b02-e228-0afe98e4b348"
      },
      "execution_count": 23,
      "outputs": [
        {
          "output_type": "stream",
          "name": "stdout",
          "text": [
            "Масив 1: [12  9 15 14  5 12]\n",
            "Масив 2: [ 9 11 14  8  6  7]\n",
            "Додавання: [21 20 29 22 11 19]\n",
            "Віднімання: [ 3 -2  1  6 -1  5]\n",
            "Множення: [108  99 210 112  30  84]\n"
          ]
        }
      ]
    },
    {
      "cell_type": "markdown",
      "source": [
        "### Завдання 6"
      ],
      "metadata": {
        "id": "8kPDlKQqEkAQ"
      }
    },
    {
      "cell_type": "markdown",
      "source": [
        "22. Створіть дві матриці 4x4, заповніть їх довільними цілими числами від -6 до 6 та\n",
        "знайдіть їх добуток."
      ],
      "metadata": {
        "id": "G50lpN8O9BTl"
      }
    },
    {
      "cell_type": "code",
      "source": [
        "a = np.random.randint(-6, 7, (4, 4))\n",
        "b = np.random.randint(-6, 7, (4, 4))\n",
        "\n",
        "print(\"A:\\n\", a, \"\\nB:\\n\", b, \"\\nA*B:\\n\", np.dot(a, b), \"\\n\")"
      ],
      "metadata": {
        "colab": {
          "base_uri": "https://localhost:8080/"
        },
        "id": "7Pi3tv6YOGlg",
        "outputId": "b883682c-0f64-4e27-a891-67fc61c50470"
      },
      "execution_count": 31,
      "outputs": [
        {
          "output_type": "stream",
          "name": "stdout",
          "text": [
            "A:\n",
            " [[ 5  4 -2  6]\n",
            " [ 4  6  1  1]\n",
            " [-4  1  2 -1]\n",
            " [-1  6  2 -1]] \n",
            "B:\n",
            " [[ 6  2 -2 -2]\n",
            " [ 6  2  3  5]\n",
            " [ 3 -3  5 -5]\n",
            " [ 6  6  1 -2]] \n",
            "A*B:\n",
            " [[ 84  60  -2   8]\n",
            " [ 69  23  16  15]\n",
            " [-18 -18  20   5]\n",
            " [ 30  -2  29  24]] \n",
            "\n"
          ]
        }
      ]
    },
    {
      "cell_type": "markdown",
      "source": [
        "### Завдання 7"
      ],
      "metadata": {
        "id": "54SBZrL2Ey4q"
      }
    },
    {
      "cell_type": "markdown",
      "source": [
        "22. Створіть дві матриці розміром 3x2 та 2x2, заповніть їх випадковими цілими числами\n",
        "в діапазоні від 1 до 8 та перемножте їх між собою."
      ],
      "metadata": {
        "id": "orOnIet69dQx"
      }
    },
    {
      "cell_type": "code",
      "source": [
        "a = np.random.randint(1, 9, (3, 2))\n",
        "b = np.random.randint(1, 9, (2, 2))\n",
        "\n",
        "print(\"A:\\n\", a, \"\\nB:\\n\", b, \"\\nA*B:\\n\", np.dot(a, b), \"\\n\")"
      ],
      "metadata": {
        "colab": {
          "base_uri": "https://localhost:8080/"
        },
        "id": "bTj8JWj6MyIP",
        "outputId": "21d92290-1e5f-4422-c2d0-9e5b0d3dcabc"
      },
      "execution_count": 3,
      "outputs": [
        {
          "output_type": "stream",
          "name": "stdout",
          "text": [
            "A:\n",
            " [[8 4]\n",
            " [5 5]\n",
            " [5 3]] \n",
            "B:\n",
            " [[6 4]\n",
            " [5 4]] \n",
            "A*B:\n",
            " [[68 48]\n",
            " [55 40]\n",
            " [45 32]] \n",
            "\n"
          ]
        }
      ]
    },
    {
      "cell_type": "markdown",
      "source": [
        "### Завдання 8"
      ],
      "metadata": {
        "id": "OmqmC-PeE1v0"
      }
    },
    {
      "cell_type": "markdown",
      "source": [
        "22. Створіть матрицю розміром 3x3, заповніть її випадковими цілими числами в діапазоні\n",
        "від 1 до 8 та знайдіть її обернену матрицю."
      ],
      "metadata": {
        "id": "8I2_BMTp9lVP"
      }
    },
    {
      "cell_type": "code",
      "source": [
        "a = np.random.randint(1, 9, (3, 3))\n",
        "print(\"Матриця А:\\n\", a)\n",
        "\n",
        "a_inv = np.linalg.inv(a)\n",
        "print(\"\\nОбернена матриця до матриці A:\\n\", a_inv)"
      ],
      "metadata": {
        "colab": {
          "base_uri": "https://localhost:8080/"
        },
        "id": "fCLQBVaxRPYz",
        "outputId": "3b4bb278-60cf-4d13-d0dc-df1df6edd9af"
      },
      "execution_count": 11,
      "outputs": [
        {
          "output_type": "stream",
          "name": "stdout",
          "text": [
            "Матриця А:\n",
            " [[7 1 3]\n",
            " [7 7 4]\n",
            " [5 8 3]]\n",
            "\n",
            "Обернена матриця до матриці A:\n",
            " [[ 0.73333333 -1.4         1.13333333]\n",
            " [ 0.06666667 -0.4         0.46666667]\n",
            " [-1.4         3.4        -2.8       ]]\n"
          ]
        }
      ]
    },
    {
      "cell_type": "markdown",
      "source": [
        "### Завдання 9"
      ],
      "metadata": {
        "id": "OAVu74lHE3T0"
      }
    },
    {
      "cell_type": "markdown",
      "source": [
        "22. Створіть матрицю розміром 4x4, заповніть її випадковими дійсними числами в\n",
        "діапазоні від -1 до 1 та транспонуйте її."
      ],
      "metadata": {
        "id": "GyqDv1TL9oQX"
      }
    },
    {
      "cell_type": "code",
      "source": [
        "m = np.random.uniform(-1, 1, (4, 4))\n",
        "print(\"Матриця:\\n\", m)\n",
        "transposed = m.T\n",
        "\n",
        "print(\"\\nТранспонована матриця:\\n\", transposed)"
      ],
      "metadata": {
        "colab": {
          "base_uri": "https://localhost:8080/"
        },
        "id": "QcacfBNGSP1c",
        "outputId": "dea19cbd-781e-4c30-b5a6-849aa5d9e9e6"
      },
      "execution_count": 20,
      "outputs": [
        {
          "output_type": "stream",
          "name": "stdout",
          "text": [
            "Матриця:\n",
            " [[ 0.65155751  0.76258561  0.80216567  0.31747663]\n",
            " [-0.53657171  0.92706513 -0.1639757   0.32164428]\n",
            " [ 0.86792412  0.24593925  0.4991487   0.18615126]\n",
            " [ 0.57977231  0.98895067  0.76725122 -0.96602291]]\n",
            "\n",
            "Транспонована матриця:\n",
            " [[ 0.65155751 -0.53657171  0.86792412  0.57977231]\n",
            " [ 0.76258561  0.92706513  0.24593925  0.98895067]\n",
            " [ 0.80216567 -0.1639757   0.4991487   0.76725122]\n",
            " [ 0.31747663  0.32164428  0.18615126 -0.96602291]]\n"
          ]
        }
      ]
    },
    {
      "cell_type": "markdown",
      "source": [
        "### Завдання 10"
      ],
      "metadata": {
        "id": "L6paLDsnE4oO"
      }
    },
    {
      "cell_type": "markdown",
      "source": [
        "22. Створіть матрицю розміром 3x4 та вектор розміром 4x1, заповніть матрицю\n",
        "випадковими дійсними числами від 0 до 1, а вектор - випадковими цілими числами в\n",
        "діапазоні від 1 до 10, і знайдіть добуток матриці на вектор."
      ],
      "metadata": {
        "id": "1ncfcMm99rIq"
      }
    },
    {
      "cell_type": "code",
      "source": [
        "m = np.random.rand(3, 4)\n",
        "v = np.random.randint(1, 11, (4, 1))\n",
        "\n",
        "print(\"Матриця A:\\n\", m)\n",
        "print(\"\\nВектор v:\\n\", v)\n",
        "\n",
        "prod = np.dot(m, v)\n",
        "print(\"\\nДобуток A * v:\\n\", prod)"
      ],
      "metadata": {
        "colab": {
          "base_uri": "https://localhost:8080/"
        },
        "id": "4edP4oudd5hd",
        "outputId": "29888bc8-9228-42de-b6bc-f844d0647389"
      },
      "execution_count": 31,
      "outputs": [
        {
          "output_type": "stream",
          "name": "stdout",
          "text": [
            "Матриця A:\n",
            " [[0.30771304 0.00667758 0.73447764 0.11822263]\n",
            " [0.32657173 0.57277542 0.70101089 0.18610185]\n",
            " [0.60872832 0.65511696 0.24625466 0.23672809]]\n",
            "\n",
            "Вектор v:\n",
            " [[4]\n",
            " [3]\n",
            " [5]\n",
            " [5]]\n",
            "\n",
            "Добуток A * v:\n",
            " [[5.51438626]\n",
            " [7.46017686]\n",
            " [6.81517794]]\n"
          ]
        }
      ]
    },
    {
      "cell_type": "markdown",
      "source": [
        "### Завдання 11"
      ],
      "metadata": {
        "id": "KC2z3pIZE6Fi"
      }
    },
    {
      "cell_type": "markdown",
      "source": [
        "22. Створіть матрицю розміром 2x3 та вектор розміром 3, заповніть матрицю\n",
        "випадковими цілими числами в діапазоні від 1 до 10, а вектор - випадковими дійсними\n",
        "числами від 0 до 1, і знайдіть добуток матриці на вектор."
      ],
      "metadata": {
        "id": "NHRTH2Bz9t1H"
      }
    },
    {
      "cell_type": "code",
      "source": [
        "m = np.random.randint(1, 11, (2, 3))\n",
        "v = np.random.rand(3)\n",
        "\n",
        "print(\"Матриця A:\\n\", m)\n",
        "print(\"\\nВектор v:\\n\", v)\n",
        "\n",
        "prod = np.dot(m, v)\n",
        "print(\"\\nДобуток A * v:\\n\", prod)"
      ],
      "metadata": {
        "colab": {
          "base_uri": "https://localhost:8080/"
        },
        "id": "5BYfqK7adHyU",
        "outputId": "063cb94c-228c-47d0-c78d-0a144b382b98"
      },
      "execution_count": 30,
      "outputs": [
        {
          "output_type": "stream",
          "name": "stdout",
          "text": [
            "Матриця A:\n",
            " [[9 6 5]\n",
            " [4 8 7]]\n",
            "\n",
            "Вектор v:\n",
            " [0.86157416 0.08403006 0.41158883]\n",
            "\n",
            "Добуток A * v:\n",
            " [10.31629196  6.99965894]\n"
          ]
        }
      ]
    },
    {
      "cell_type": "markdown",
      "source": [
        "### Завдання 12"
      ],
      "metadata": {
        "id": "5e5SUGfOE7ME"
      }
    },
    {
      "cell_type": "markdown",
      "source": [
        "22. Створіть дві матриці розміром 3x3, заповніть їх випадковими цілими числами в\n",
        "діапазоні від 1 до 3 та знайдіть суму всіх елементів другої матриці."
      ],
      "metadata": {
        "id": "hqjBjjM89wVo"
      }
    },
    {
      "cell_type": "code",
      "source": [
        "a = np.random.randint(1, 4, (3, 3))\n",
        "b = np.random.randint(1, 4, (3, 3))\n",
        "print(\"A:\\n\", a, \"\\nB:\\n\", b)\n",
        "\n",
        "sum_b = np.sum(b)\n",
        "print(\"\\nСума всіх елементів матриці B:\", sum_b)"
      ],
      "metadata": {
        "colab": {
          "base_uri": "https://localhost:8080/"
        },
        "id": "s_jKSbXmcyAm",
        "outputId": "ca6a37d5-a5bf-4dd1-f2c5-e381f92e10b6"
      },
      "execution_count": 28,
      "outputs": [
        {
          "output_type": "stream",
          "name": "stdout",
          "text": [
            "A:\n",
            " [[3 2 1]\n",
            " [3 1 3]\n",
            " [3 1 3]] \n",
            "B:\n",
            " [[2 3 2]\n",
            " [1 1 1]\n",
            " [1 1 2]]\n",
            "\n",
            "Сума всіх елементів матриці B: 14\n"
          ]
        }
      ]
    },
    {
      "cell_type": "markdown",
      "source": [
        "### Завдання 13"
      ],
      "metadata": {
        "id": "hAUptBZTE8bQ"
      }
    },
    {
      "cell_type": "markdown",
      "source": [
        "22. Створіть дві матриці розміром 3x3, заповніть їх випадковими цілими числами в\n",
        "діапазоні від 1 до 5 та знайдіть суму їх елементів."
      ],
      "metadata": {
        "id": "0xvtzqN-9y5Z"
      }
    },
    {
      "cell_type": "code",
      "source": [
        "a = np.random.randint(1, 6, (3, 3))\n",
        "b = np.random.randint(1, 6, (3, 3))\n",
        "\n",
        "print(\"A:\\n\", a, \"\\nB:\\n\", b, \"\\nA+B:\\n\", a+b, \"\\n\")"
      ],
      "metadata": {
        "colab": {
          "base_uri": "https://localhost:8080/"
        },
        "id": "uvzQ_Sc8b-up",
        "outputId": "affddb0d-a76b-4f9e-a286-5fb3936b2e8d"
      },
      "execution_count": 23,
      "outputs": [
        {
          "output_type": "stream",
          "name": "stdout",
          "text": [
            "A:\n",
            " [[1 4 3]\n",
            " [3 1 1]\n",
            " [1 3 1]] \n",
            "B:\n",
            " [[4 1 5]\n",
            " [3 1 2]\n",
            " [1 3 2]] \n",
            "A+B:\n",
            " [[5 5 8]\n",
            " [6 2 3]\n",
            " [2 6 3]] \n",
            "\n"
          ]
        }
      ]
    },
    {
      "cell_type": "markdown",
      "source": [
        "### Завдання 14"
      ],
      "metadata": {
        "id": "Q_-H4gPaE9oI"
      }
    },
    {
      "cell_type": "markdown",
      "source": [
        "22. Створіть матрицю розміром 3x3, заповніть її випадковими цілими числами в діапазоні\n",
        "від 1 до 10 та знайдіть суму елементів на головній діагоналі."
      ],
      "metadata": {
        "id": "X6M2Y18R91Id"
      }
    },
    {
      "cell_type": "code",
      "source": [
        "m = np.random.randint(1, 11, (3, 3))\n",
        "print(\"Матриця А:\\n\", m)\n",
        "\n",
        "diag_sum = np.trace(m)\n",
        "print(\"\\nСума елементів головної діагоналі:\", diag_sum)"
      ],
      "metadata": {
        "colab": {
          "base_uri": "https://localhost:8080/"
        },
        "id": "HnRUkbtqa6wj",
        "outputId": "09d4e4cc-00c1-4181-f581-7e11e968dae9"
      },
      "execution_count": 22,
      "outputs": [
        {
          "output_type": "stream",
          "name": "stdout",
          "text": [
            "Матриця А:\n",
            " [[9 4 7]\n",
            " [4 9 1]\n",
            " [1 3 4]]\n",
            "\n",
            "Сума елементів головної діагоналі: 22\n"
          ]
        }
      ]
    },
    {
      "cell_type": "markdown",
      "source": [
        "### Завдання 15"
      ],
      "metadata": {
        "id": "llIgKzFjE-zY"
      }
    },
    {
      "cell_type": "markdown",
      "source": [
        "22. Створіть матрицю розміром 3x3, заповніть її випадковими дійсними числами в\n",
        "діапазоні від -1 до 1 та знайдіть вектор-стовпчик, що містить добуток елементів\n",
        "кожного стовпця матриці."
      ],
      "metadata": {
        "id": "JGvJEM6J93Ne"
      }
    },
    {
      "cell_type": "code",
      "source": [
        "m = np.random.uniform(-1, 1, (3, 3))\n",
        "print(\"Матриця А:\\n\", m)\n",
        "\n",
        "prod = np.prod(m, axis=0)\n",
        "vector = prod.reshape(-1, 1)\n",
        "\n",
        "print(\"\\nДобутки елементів по стовпцях (вектор-стовпчик):\")\n",
        "print(vector)"
      ],
      "metadata": {
        "colab": {
          "base_uri": "https://localhost:8080/"
        },
        "id": "ExqsCIEZWsXF",
        "outputId": "8d254d6c-6c71-4cf4-88bb-1e5ed992775f"
      },
      "execution_count": 21,
      "outputs": [
        {
          "output_type": "stream",
          "name": "stdout",
          "text": [
            "Матриця А:\n",
            " [[ 0.4237678  -0.38478106  0.03989156]\n",
            " [-0.55210689 -0.70176341 -0.21493364]\n",
            " [-0.71146753  0.24034725  0.25278513]]\n",
            "\n",
            "Добутки елементів по стовпцях (вектор-стовпчик):\n",
            "[[ 0.16645859]\n",
            " [ 0.06489983]\n",
            " [-0.00216739]]\n"
          ]
        }
      ]
    }
  ]
}